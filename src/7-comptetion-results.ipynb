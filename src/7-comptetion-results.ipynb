{
 "cells": [
  {
   "cell_type": "code",
   "execution_count": 132,
   "metadata": {},
   "outputs": [],
   "source": [
    "import pandas as pd\n",
    "import numpy as np\n",
    "import matplotlib.pyplot as plt\n",
    "import seaborn as sns\n",
    "import os\n",
    "import sys"
   ]
  },
  {
   "cell_type": "code",
   "execution_count": 133,
   "metadata": {},
   "outputs": [],
   "source": [
    "codes = pd.read_csv('new_data/codes.csv', index_col=0)"
   ]
  },
  {
   "cell_type": "code",
   "execution_count": 134,
   "metadata": {},
   "outputs": [],
   "source": [
    "#get txt files from competition_predictions folder, each .txt contains an array similar to the following: [563, 564, 568, 573, 571, 569, 562, 559] , get it and create a dictionary with the key being the filename (everything before underscore) and the value being the array\n",
    "def get_predictions():\n",
    "    predictions = {}\n",
    "    for filename in os.listdir(\"competition_predictions\"):\n",
    "        if filename.endswith(\".txt\"):\n",
    "            with open(\"competition_predictions/\"+filename, \"r\") as f:\n",
    "                name = filename.split(\"_\")[0]\n",
    "                content = f.read().split(\",\")\n",
    "                #drop [ and ] from the array\n",
    "                content[0] = content[0][1:]\n",
    "                content[-1] = content[-1][:-1]\n",
    "                predictions[name] = [int(i) for i in content]\n",
    "    return predictions"
   ]
  },
  {
   "cell_type": "code",
   "execution_count": 135,
   "metadata": {},
   "outputs": [
    {
     "name": "stdout",
     "output_type": "stream",
     "text": [
      "{'MLPClassifier': [563, 564, 568, 573, 571, 569, 562, 574], 'KNeighborsClassifier': [563, 568, 573, 555, 571, 556, 569, 562], 'BaggingClassifier': [563, 564, 568, 573, 571, 569, 562, 556], 'LGBMClassifier': [563, 564, 568, 573, 571, 569, 562, 559], 'RandomForestClassifier': [563, 564, 568, 573, 571, 569, 562, 559], 'Combination': [563, 564, 568, 573, 571, 569, 562, 559]}\n"
     ]
    }
   ],
   "source": [
    "predictions = get_predictions()\n",
    "print(predictions)"
   ]
  },
  {
   "cell_type": "code",
   "execution_count": 136,
   "metadata": {},
   "outputs": [
    {
     "name": "stdout",
     "output_type": "stream",
     "text": [
      "{'MLPClassifier': ['SEA', 'SAS', 'LAS', 'PHO', 'ATL', 'IND', 'NYL', 'CHI'], 'KNeighborsClassifier': ['SEA', 'LAS', 'PHO', 'MIN', 'ATL', 'CON', 'IND', 'NYL'], 'BaggingClassifier': ['SEA', 'SAS', 'LAS', 'PHO', 'ATL', 'IND', 'NYL', 'CON'], 'LGBMClassifier': ['SEA', 'SAS', 'LAS', 'PHO', 'ATL', 'IND', 'NYL', 'WAS'], 'RandomForestClassifier': ['SEA', 'SAS', 'LAS', 'PHO', 'ATL', 'IND', 'NYL', 'WAS'], 'Combination': ['SEA', 'SAS', 'LAS', 'PHO', 'ATL', 'IND', 'NYL', 'WAS']}\n"
     ]
    }
   ],
   "source": [
    "#transform codes to a dictionary with key being the code and value being the name\n",
    "codes_dict = {\"code\": \"name\"}\n",
    "for index, row in codes.iterrows():\n",
    "    #skip the first row\n",
    "    codes_dict[index] = row[\"code\"]\n",
    "\n",
    "    \n",
    "#transform predictions to a dictionary with key being the name and value being the code\n",
    "predictions_dict = {}\n",
    "for key in predictions:\n",
    "    predictions_dict[key] = [codes_dict[i] for i in predictions[key]]\n",
    "print(predictions_dict)\n"
   ]
  },
  {
   "cell_type": "code",
   "execution_count": 140,
   "metadata": {},
   "outputs": [],
   "source": [
    "#plot the predictions in occurence (the x axis is the tmID, the y axis is the occurence of the tmID in the predictions)\n",
    "def plot_predictions(predictions):\n",
    "    #create a dictionary with the tmIDs as keys and the occurences as values\n",
    "    occurences = {}\n",
    "    for key in predictions.keys():\n",
    "        for tmID in predictions[key]:\n",
    "            if tmID in occurences.keys():\n",
    "                occurences[tmID] += 1\n",
    "            else:\n",
    "                occurences[tmID] = 1\n",
    "    #sort the dictionary by value\n",
    "    occurences = {k: v for k, v in sorted(occurences.items(), key=lambda item: item[1])}\n",
    "    #plot the dictionary\n",
    "    plt.bar(occurences.keys(), occurences.values())\n",
    "    plt.title(\"Occurences of Teams in Y11 (Competition)\")\n",
    "    plt.xlabel(\"Teams\")\n",
    "    plt.ylabel(\"Occurences\")\n",
    "    plt.show()"
   ]
  },
  {
   "cell_type": "code",
   "execution_count": 141,
   "metadata": {},
   "outputs": [
    {
     "data": {
      "image/png": "[encoded data removed]",
      "text/plain": [
       "<Figure size 640x480 with 1 Axes>"
      ]
     },
     "metadata": {},
     "output_type": "display_data"
    }
   ],
   "source": [
    "plot_predictions(predictions_dict)"
   ]
  }
 ],
 "metadata": {
  "kernelspec": {
   "display_name": "Python 3",
   "language": "python",
   "name": "python3"
  },
  "language_info": {
   "codemirror_mode": {
    "name": "ipython",
    "version": 3
   },
   "file_extension": ".py",
   "mimetype": "text/x-python",
   "name": "python",
   "nbconvert_exporter": "python",
   "pygments_lexer": "ipython3",
   "version": "3.10.12"
  }
 },
 "nbformat": 4,
 "nbformat_minor": 2
}
