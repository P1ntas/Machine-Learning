{
 "cells": [
  {
   "cell_type": "code",
   "execution_count": 52,
   "metadata": {},
   "outputs": [],
   "source": [
    "import pandas as pd\n",
    "import seaborn as sns\n",
    "import matplotlib.pyplot as plt\n",
    "from sklearn.preprocessing import StandardScaler, PowerTransformer, Binarizer"
   ]
  },
  {
   "cell_type": "code",
   "execution_count": 53,
   "metadata": {},
   "outputs": [],
   "source": [
    "#dev = pd.read_csv('new_data/clean-data.csv')\n",
    "dev = pd.read_csv('new_data/clean-data_without_outliers.csv')\n",
    "comp = pd.read_csv('new_data/comp.csv')\n",
    "all = pd.read_csv('new_data/data.csv')"
   ]
  },
  {
   "cell_type": "code",
   "execution_count": 54,
   "metadata": {},
   "outputs": [],
   "source": [
    "def show_hist(columns, trend=True):\n",
    "    for column in columns:\n",
    "        sns.histplot(dev[column], kde=trend)\n",
    "        plt.show()\n",
    "\n",
    "\n",
    "def transform(columns, scaler):\n",
    "    scaler = scaler.fit(dev[columns])\n",
    "    dev[columns] = scaler.transform(dev[columns])\n",
    "    comp[columns] = scaler.transform(comp[columns])\n",
    "    #all[columns] = scaler.transform(all[columns])\n"
   ]
  },
  {
   "cell_type": "code",
   "execution_count": 55,
   "metadata": {},
   "outputs": [],
   "source": [
    "qualitative_columns = ['playerID','year','stint','tmID','pos','playoff','confID','award_count','playoff_progression']\n",
    "\n",
    "#show_hist(qualitative_columns, trend=False)"
   ]
  },
  {
   "cell_type": "code",
   "execution_count": 56,
   "metadata": {},
   "outputs": [],
   "source": [
    "#stat columns = GP,oRebounds,dRebounds,dq,PostMinutes,PostPoints,PostoRebounds,PostdRebounds,PostRebounds,PostAssists,PostSteals,PostBlocks,PostTurnovers,PostPF,PostDQ,career_year,ft%,fg%,three%,gs%,Postft%,Postfg%,Postthree%,Postgs%,efg%,ts%,ppg,rpg,apg,spg,bpg,eff,pp36,defensive_prowess,defensive_discipline,mpg\n",
    "stat_columns = ['GP','oRebounds','dRebounds','dq','PostMinutes','PostPoints',\n",
    "                'PostoRebounds','PostdRebounds','PostRebounds','PostAssists',\n",
    "                'PostSteals','PostBlocks','PostTurnovers','PostPF','PostDQ',\n",
    "                'career_year','ft%','fg%','three%','gs%','Postft%','Postfg%',\n",
    "                'Postthree%','Postgs%','efg%','ts%','ppg','rpg','apg','spg',\n",
    "                'bpg','eff','pp36','defensive_prowess','defensive_discipline',\n",
    "                'mpg']"
   ]
  }
 ],
 "metadata": {
  "kernelspec": {
   "display_name": "Python 3",
   "language": "python",
   "name": "python3"
  },
  "language_info": {
   "codemirror_mode": {
    "name": "ipython",
    "version": 3
   },
   "file_extension": ".py",
   "mimetype": "text/x-python",
   "name": "python",
   "nbconvert_exporter": "python",
   "pygments_lexer": "ipython3",
   "version": "3.10.12"
  }
 },
 "nbformat": 4,
 "nbformat_minor": 2
}
