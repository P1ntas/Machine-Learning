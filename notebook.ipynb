{
 "cells": [
  {
   "cell_type": "markdown",
   "metadata": {},
   "source": [
    "# AC Project\n",
    "\n",
    "## Imports"
   ]
  },
  {
   "cell_type": "code",
   "execution_count": 22,
   "metadata": {},
   "outputs": [],
   "source": [
    "import pandas as pd\n",
    "import numpy as np\n",
    "import matplotlib.pyplot as plt\n",
    "from sklearn.model_selection import train_test_split\n",
    "from sklearn.tree import DecisionTreeClassifier\n",
    "from sklearn.metrics import accuracy_score"
   ]
  },
  {
   "cell_type": "markdown",
   "metadata": {},
   "source": [
    "## Exploratory Analysis\n",
    "\n",
    "We first focused on the ``teams.csv`` dataset, before including other datasets.\n",
    "\n",
    "Based on the feedback of our teacher, we tried to make a shift in our model, where we would use the statistics of one year to predict if that specific team went to the playoffs in the following season. However, we found the sample  size varied throughtout the seasons contained by our dataset, demonstrated here:"
   ]
  },
  {
   "cell_type": "code",
   "execution_count": 23,
   "metadata": {},
   "outputs": [
    {
     "name": "stdout",
     "output_type": "stream",
     "text": [
      "Year 1: 16 rows\n",
      "Year 2: 16 rows\n",
      "Year 3: 16 rows\n",
      "Year 4: 14 rows\n",
      "Year 5: 13 rows\n",
      "Year 6: 13 rows\n",
      "Year 7: 14 rows\n",
      "Year 8: 13 rows\n",
      "Year 9: 14 rows\n",
      "Year 10: 13 rows\n",
      "\n",
      "\n",
      "\n",
      "\n",
      "Teams in Year 1:\n",
      "Charlotte Sting\n",
      "Cleveland Rockers\n",
      "Detroit Shock\n",
      "Houston Comets\n",
      "Indiana Fever\n",
      "Los Angeles Sparks\n",
      "Miami Sol\n",
      "Minnesota Lynx\n",
      "New York Liberty\n",
      "Orlando Miracle\n",
      "Phoenix Mercury\n",
      "Portland Fire\n",
      "Sacramento Monarchs\n",
      "Seattle Storm\n",
      "Utah Starzz\n",
      "Washington Mystics\n",
      "\n",
      "\n",
      "Teams in Year 2:\n",
      "Charlotte Sting\n",
      "Cleveland Rockers\n",
      "Detroit Shock\n",
      "Houston Comets\n",
      "Indiana Fever\n",
      "Los Angeles Sparks\n",
      "Miami Sol\n",
      "Minnesota Lynx\n",
      "New York Liberty\n",
      "Orlando Miracle\n",
      "Phoenix Mercury\n",
      "Portland Fire\n",
      "Sacramento Monarchs\n",
      "Seattle Storm\n",
      "Utah Starzz\n",
      "Washington Mystics\n",
      "\n",
      "\n",
      "Teams in Year 3:\n",
      "Charlotte Sting\n",
      "Cleveland Rockers\n",
      "Detroit Shock\n",
      "Houston Comets\n",
      "Indiana Fever\n",
      "Los Angeles Sparks\n",
      "Miami Sol\n",
      "Minnesota Lynx\n",
      "New York Liberty\n",
      "Orlando Miracle\n",
      "Phoenix Mercury\n",
      "Portland Fire\n",
      "Sacramento Monarchs\n",
      "Seattle Storm\n",
      "Utah Starzz\n",
      "Washington Mystics\n",
      "\n",
      "\n",
      "Teams in Year 4:\n",
      "Charlotte Sting\n",
      "Cleveland Rockers\n",
      "Connecticut Sun\n",
      "Detroit Shock\n",
      "Houston Comets\n",
      "Indiana Fever\n",
      "Los Angeles Sparks\n",
      "Minnesota Lynx\n",
      "New York Liberty\n",
      "Phoenix Mercury\n",
      "Sacramento Monarchs\n",
      "San Antonio Silver Stars\n",
      "Seattle Storm\n",
      "Washington Mystics\n",
      "\n",
      "\n",
      "Teams in Year 5:\n",
      "Charlotte Sting\n",
      "Connecticut Sun\n",
      "Detroit Shock\n",
      "Houston Comets\n",
      "Indiana Fever\n",
      "Los Angeles Sparks\n",
      "Minnesota Lynx\n",
      "New York Liberty\n",
      "Phoenix Mercury\n",
      "Sacramento Monarchs\n",
      "San Antonio Silver Stars\n",
      "Seattle Storm\n",
      "Washington Mystics\n",
      "\n",
      "\n",
      "Teams in Year 6:\n",
      "Charlotte Sting\n",
      "Connecticut Sun\n",
      "Detroit Shock\n",
      "Houston Comets\n",
      "Indiana Fever\n",
      "Los Angeles Sparks\n",
      "Minnesota Lynx\n",
      "New York Liberty\n",
      "Phoenix Mercury\n",
      "Sacramento Monarchs\n",
      "San Antonio Silver Stars\n",
      "Seattle Storm\n",
      "Washington Mystics\n",
      "\n",
      "\n",
      "Teams in Year 7:\n",
      "Charlotte Sting\n",
      "Chicago Sky\n",
      "Connecticut Sun\n",
      "Detroit Shock\n",
      "Houston Comets\n",
      "Indiana Fever\n",
      "Los Angeles Sparks\n",
      "Minnesota Lynx\n",
      "New York Liberty\n",
      "Phoenix Mercury\n",
      "Sacramento Monarchs\n",
      "San Antonio Silver Stars\n",
      "Seattle Storm\n",
      "Washington Mystics\n",
      "\n",
      "\n",
      "Teams in Year 8:\n",
      "Chicago Sky\n",
      "Connecticut Sun\n",
      "Detroit Shock\n",
      "Houston Comets\n",
      "Indiana Fever\n",
      "Los Angeles Sparks\n",
      "Minnesota Lynx\n",
      "New York Liberty\n",
      "Phoenix Mercury\n",
      "Sacramento Monarchs\n",
      "San Antonio Silver Stars\n",
      "Seattle Storm\n",
      "Washington Mystics\n",
      "\n",
      "\n",
      "Teams in Year 9:\n",
      "Atlanta Dream\n",
      "Chicago Sky\n",
      "Connecticut Sun\n",
      "Detroit Shock\n",
      "Houston Comets\n",
      "Indiana Fever\n",
      "Los Angeles Sparks\n",
      "Minnesota Lynx\n",
      "New York Liberty\n",
      "Phoenix Mercury\n",
      "Sacramento Monarchs\n",
      "San Antonio Silver Stars\n",
      "Seattle Storm\n",
      "Washington Mystics\n",
      "\n",
      "\n",
      "Teams in Year 10:\n",
      "Atlanta Dream\n",
      "Chicago Sky\n",
      "Connecticut Sun\n",
      "Detroit Shock\n",
      "Indiana Fever\n",
      "Los Angeles Sparks\n",
      "Minnesota Lynx\n",
      "New York Liberty\n",
      "Phoenix Mercury\n",
      "Sacramento Monarchs\n",
      "San Antonio Silver Stars\n",
      "Seattle Storm\n",
      "Washington Mystics\n",
      "\n",
      "\n"
     ]
    }
   ],
   "source": [
    "file_path = \"basketballPlayoffs/teams.csv\"\n",
    "data = pd.read_csv(file_path)\n",
    "\n",
    "year_counts = data['year'].value_counts()\n",
    "year_counts = year_counts.sort_index()\n",
    "\n",
    "for year, count in year_counts.items():\n",
    "    print(f\"Year {year}: {count} rows\")\n",
    "print(\"\\n\")\n",
    "\n",
    "for i in range(11):\n",
    "    year_data = data[data['year'] == i]\n",
    "    team_names = year_data['name'].tolist()\n",
    "\n",
    "    if team_names:\n",
    "        print(f\"Teams in Year {i}:\")\n",
    "        for team_name in team_names:\n",
    "            print(team_name)\n",
    "    print(\"\\n\")"
   ]
  },
  {
   "cell_type": "markdown",
   "metadata": {},
   "source": [
    "These were the teams that appeared in all seasons of the dataset:"
   ]
  },
  {
   "cell_type": "code",
   "execution_count": 49,
   "metadata": {},
   "outputs": [
    {
     "name": "stdout",
     "output_type": "stream",
     "text": [
      "Teams that appear in all years:\n",
      "Detroit Shock\n",
      "Indiana Fever\n",
      "Los Angeles Sparks\n",
      "Minnesota Lynx\n",
      "New York Liberty\n",
      "Phoenix Mercury\n",
      "Sacramento Monarchs\n",
      "Seattle Storm\n",
      "Washington Mystics\n",
      "\n",
      "Number of teams that appear all years: 9\n"
     ]
    }
   ],
   "source": [
    "all_years = data['year'].unique()\n",
    "common_teams = []\n",
    "\n",
    "for team in data['name'].unique():\n",
    "    years_for_team = data[data['name'] == team]['year'].unique()\n",
    "    \n",
    "    if set(years_for_team) == set(all_years):\n",
    "        common_teams.append(team)\n",
    "\n",
    "if common_teams:\n",
    "    print(\"Teams that appear in all years:\")\n",
    "    for team in common_teams:\n",
    "        print(team)\n",
    "\n",
    "print(f\"\\nNumber of teams that appear all years: {len(common_teams)}\")"
   ]
  },
  {
   "cell_type": "markdown",
   "metadata": {},
   "source": [
    "These are the teams that stop appearing halfway through the dataset:"
   ]
  },
  {
   "cell_type": "code",
   "execution_count": 50,
   "metadata": {},
   "outputs": [
    {
     "name": "stdout",
     "output_type": "stream",
     "text": [
      "Teams that appear in one year but not in the following one (Years 1 to 10):\n",
      "Team: Miami Sol, Year They Stop Appearing: 4\n",
      "Team: Orlando Miracle, Year They Stop Appearing: 4\n",
      "Team: Portland Fire, Year They Stop Appearing: 4\n",
      "Team: Utah Starzz, Year They Stop Appearing: 4\n",
      "Team: Cleveland Rockers, Year They Stop Appearing: 5\n",
      "Team: Charlotte Sting, Year They Stop Appearing: 8\n",
      "Team: Houston Comets, Year They Stop Appearing: 10\n"
     ]
    }
   ],
   "source": [
    "data = data.sort_values(by=[\"year\", \"name\"])\n",
    "\n",
    "teams_that_disappear = []\n",
    "\n",
    "for year in range(1, 10):\n",
    "    current_year_data = data[data['year'] == year]\n",
    "    next_year_data = data[data['year'] == year + 1]\n",
    "    \n",
    "    current_year_teams = current_year_data['name'].unique()\n",
    "    next_year_teams = next_year_data['name'].unique()\n",
    "    \n",
    "    disappeared_teams = [team for team in current_year_teams if team not in next_year_teams]\n",
    "    \n",
    "    if disappeared_teams:\n",
    "        for team in disappeared_teams:\n",
    "            stop_year = year + 1\n",
    "            teams_that_disappear.append((team, stop_year))\n",
    "\n",
    "if teams_that_disappear:\n",
    "    print(\"Teams that appear in one year but not in the following one (Years 1 to 10):\")\n",
    "    for team, stop_year in teams_that_disappear:\n",
    "        print(f\"Team: {team}, Year They Stop Appearing: {stop_year}\")\n"
   ]
  },
  {
   "cell_type": "markdown",
   "metadata": {},
   "source": [
    "And these teams start appearing halfway through the dataset:"
   ]
  },
  {
   "cell_type": "code",
   "execution_count": 51,
   "metadata": {},
   "outputs": [
    {
     "name": "stdout",
     "output_type": "stream",
     "text": [
      "Teams that start appearing in one year (Years 2 to 10):\n",
      "Team: Connecticut Sun, Year They Start Appearing: 4\n",
      "Team: San Antonio Silver Stars, Year They Start Appearing: 4\n",
      "Team: Chicago Sky, Year They Start Appearing: 7\n",
      "Team: Atlanta Dream, Year They Start Appearing: 9\n"
     ]
    }
   ],
   "source": [
    "data = data.sort_values(by=[\"year\", \"name\"])\n",
    "\n",
    "teams_that_appear = []\n",
    "\n",
    "for year in range(2, 11):\n",
    "    current_year_data = data[data['year'] == year]\n",
    "    previous_year_data = data[data['year'] == year - 1]\n",
    "    \n",
    "    current_year_teams = current_year_data['name'].unique()\n",
    "    previous_year_teams = previous_year_data['name'].unique()\n",
    "    \n",
    "    appeared_teams = [team for team in current_year_teams if team not in previous_year_teams]\n",
    "    \n",
    "    if appeared_teams:\n",
    "        for team in appeared_teams:\n",
    "            start_year = year\n",
    "            teams_that_appear.append((team, start_year))\n",
    "\n",
    "if teams_that_appear:\n",
    "    print(\"Teams that start appearing in one year (Years 2 to 10):\")\n",
    "    for team, start_year in teams_that_appear:\n",
    "        print(f\"Team: {team}, Year They Start Appearing: {start_year}\")"
   ]
  },
  {
   "cell_type": "markdown",
   "metadata": {},
   "source": [
    "Teams that start and end before the first and last season, respectively:"
   ]
  },
  {
   "cell_type": "code",
   "execution_count": 52,
   "metadata": {},
   "outputs": [
    {
     "name": "stdout",
     "output_type": "stream",
     "text": [
      "No teams meet this criteria for the specified years.\n"
     ]
    }
   ],
   "source": [
    "common_teams = set(disappeared_teams).intersection(appeared_teams)\n",
    "\n",
    "if common_teams:\n",
    "    print(\"Teams that both disappeared and appeared (Years 1 to 9):\")\n",
    "    for team in common_teams:\n",
    "        print(team)\n",
    "else:\n",
    "    print(\"No teams meet this criteria for the specified years.\")"
   ]
  },
  {
   "cell_type": "markdown",
   "metadata": {},
   "source": [
    "Our current dataset:"
   ]
  },
  {
   "cell_type": "code",
   "execution_count": 53,
   "metadata": {},
   "outputs": [
    {
     "name": "stdout",
     "output_type": "stream",
     "text": [
      "    year  lgID tmID franchID confID  divID  rank playoff  seeded firstRound  \\\n",
      "2      1  WNBA  CHA      CHA     EA    NaN     8       N       0        NaN   \n",
      "13     1  WNBA  CLE      CLE     EA    NaN     2       Y       0          W   \n",
      "24     1  WNBA  DET      DET     EA    NaN     5       N       0        NaN   \n",
      "34     1  WNBA  HOU      HOU     WE    NaN     2       Y       0          W   \n",
      "43     1  WNBA  IND      IND     EA    NaN     7       N       0        NaN   \n",
      "\n",
      "    ...  GP homeW homeL  awayW  awayL  confW  confL   min  attend  \\\n",
      "2   ...  32     5    11      3     13      5     16  6475   90963   \n",
      "13  ...  32    13     3      4     12     13      8  6500  137532   \n",
      "24  ...  32     8     8      6     10     10     11  6425  107289   \n",
      "34  ...  32    14     2     13      3     17      4  6475  196077   \n",
      "43  ...  32     5    11      4     12      7     14  6425  180270   \n",
      "\n",
      "                         arena  \n",
      "2           Charlotte Coliseum  \n",
      "13         Quicken Loans Arena  \n",
      "24  The Palace of Auburn Hills  \n",
      "34               Compaq Center  \n",
      "43          Conseco Fieldhouse  \n",
      "\n",
      "[5 rows x 61 columns]\n"
     ]
    }
   ],
   "source": [
    "print(data.head(5))"
   ]
  },
  {
   "cell_type": "markdown",
   "metadata": {},
   "source": [
    "We'll remove columns we consider irrelevant, as well as columns that contain data leakage, which would make our model have 100% accuracy, but would not be useful in a real-world scenario. "
   ]
  },
  {
   "cell_type": "code",
   "execution_count": 24,
   "metadata": {},
   "outputs": [
    {
     "name": "stdout",
     "output_type": "stream",
     "text": [
      "   year tmID playoff  o_fgm  o_fga  o_ftm  o_fta  o_3pm  o_3pa  o_oreb  ...  \\\n",
      "0     9  ATL       N    895   2258    542    725    202    598     340  ...   \n",
      "1    10  ATL       Y   1089   2428    569    755    114    374     404  ...   \n",
      "2     1  CHA       N    812   1903    431    577    131    386     305  ...   \n",
      "3     2  CHA       Y    746   1780    410    528    153    428     309  ...   \n",
      "4     3  CHA       Y    770   1790    490    663    211    527     302  ...   \n",
      "\n",
      "   tmDRB  tmTRB  opptmORB  opptmDRB  opptmTRB  won  lost  GP   min  attend  \n",
      "0      0      0         0         0         0    4    30  34  6825  141379  \n",
      "1      0      0         0         0         0   18    16  34  6950  120737  \n",
      "2      0      0         0         0         0    8    24  32  6475   90963  \n",
      "3      0      0         0         0         0   18    14  32  6500  105525  \n",
      "4      0      0         0         0         0   18    14  32  6450  106670  \n",
      "\n",
      "[5 rows x 44 columns]\n"
     ]
    }
   ],
   "source": [
    "data.pop(\"arena\")\n",
    "data.pop(\"rank\")\n",
    "data.pop(\"franchID\")\n",
    "data.pop(\"name\")\n",
    "data.pop(\"lgID\")\n",
    "data.pop(\"divID\")\n",
    "data.pop(\"confID\")\n",
    "data.pop(\"seeded\")\n",
    "data.pop(\"firstRound\")\n",
    "data.pop(\"semis\")\n",
    "data.pop(\"finals\")\n",
    "data.pop(\"homeW\")\n",
    "data.pop(\"homeL\")\n",
    "data.pop(\"awayW\")\n",
    "data.pop(\"awayL\")\n",
    "data.pop(\"confW\")\n",
    "data.pop(\"confL\")\n",
    "\n",
    "\n",
    "print(data.head(5))"
   ]
  },
  {
   "cell_type": "markdown",
   "metadata": {},
   "source": [
    "## Models\n",
    "\n",
    "Splitting our data, training our model and testing its adcuracy:"
   ]
  },
  {
   "cell_type": "code",
   "execution_count": 55,
   "metadata": {},
   "outputs": [
    {
     "name": "stdout",
     "output_type": "stream",
     "text": [
      "Accuracy for year 2: 0.5\n",
      "Accuracy for year 3: 0.5\n",
      "Accuracy for year 4: 0.5\n",
      "Accuracy for year 5: 0.62\n",
      "Accuracy for year 6: 0.46\n",
      "Accuracy for year 7: 0.64\n",
      "Accuracy for year 8: 0.62\n",
      "Accuracy for year 9: 0.86\n",
      "Accuracy for year 10: 0.54\n"
     ]
    },
    {
     "data": {
      "image/png": "[encoded data removed]",
      "text/plain": [
       "<Figure size 640x480 with 1 Axes>"
      ]
     },
     "metadata": {},
     "output_type": "display_data"
    }
   ],
   "source": [
    "data['playoff'] = data['playoff'].replace({'Y': 1, 'N': 0})\n",
    "\n",
    "def run_model():\n",
    "    data1 = pd.get_dummies(data, columns=[\"tmID\"])\n",
    "    accuracy_list = []\n",
    "    years = data1['year'].unique()\n",
    "    years.sort()\n",
    "\n",
    "    for i in range(1, len(years)):\n",
    "        train_years = years[:i]\n",
    "        test_year = years[i]\n",
    "\n",
    "        train = data1[data1['year'].isin(train_years)]\n",
    "        test = data1[data1['year'] == test_year]\n",
    "\n",
    "        X_train = train.drop(columns=[\"playoff\"])\n",
    "        Y_train = train['playoff']\n",
    "        X_test = test.drop(columns=[\"playoff\"])\n",
    "        Y_test = test['playoff']\n",
    "        \n",
    "        model = DecisionTreeClassifier(random_state=42)\n",
    "        \n",
    "        model.fit(X_train, Y_train)\n",
    "        \n",
    "        predictions = model.predict(X_test)\n",
    "        \n",
    "        accuracy = round(accuracy_score(Y_test, predictions), 2)\n",
    "        print(\"Accuracy for year {}: {}\".format(i + 1, accuracy))\n",
    "        accuracy_list.append(accuracy)\n",
    "\n",
    "    plt.plot(list(range(2, len(years) + 1)), accuracy_list, marker='o', linestyle='-')\n",
    "    plt.xlabel(\"Year\")\n",
    "    plt.ylabel(\"Accuracy\")\n",
    "    plt.title(\"Accuracy per Year for Predicting Next Year's Playoff\")\n",
    "    plt.grid(True)\n",
    "    plt.show()\n",
    "\n",
    "run_model()"
   ]
  },
  {
   "cell_type": "markdown",
   "metadata": {},
   "source": [
    "A different method to split the data:"
   ]
  },
  {
   "cell_type": "code",
   "execution_count": 56,
   "metadata": {},
   "outputs": [
    {
     "ename": "NameError",
     "evalue": "name 'years' is not defined",
     "output_type": "error",
     "traceback": [
      "\u001b[0;31m---------------------------------------------------------------------------\u001b[0m",
      "\u001b[0;31mNameError\u001b[0m                                 Traceback (most recent call last)",
      "\u001b[1;32m/home/joaorr13/Documentos/ac/AC/notebook.ipynb Cell 20\u001b[0m line \u001b[0;36m3\n\u001b[1;32m     <a href='vscode-notebook-cell://wsl%2Bubuntu/home/joaorr13/Documentos/ac/AC/notebook.ipynb#X25sdnNjb2RlLXJlbW90ZQ%3D%3D?line=30'>31</a>\u001b[0m     plt\u001b[39m.\u001b[39mgrid(\u001b[39mTrue\u001b[39;00m)\n\u001b[1;32m     <a href='vscode-notebook-cell://wsl%2Bubuntu/home/joaorr13/Documentos/ac/AC/notebook.ipynb#X25sdnNjb2RlLXJlbW90ZQ%3D%3D?line=31'>32</a>\u001b[0m     plt\u001b[39m.\u001b[39mshow()\n\u001b[0;32m---> <a href='vscode-notebook-cell://wsl%2Bubuntu/home/joaorr13/Documentos/ac/AC/notebook.ipynb#X25sdnNjb2RlLXJlbW90ZQ%3D%3D?line=33'>34</a>\u001b[0m run_model_1()\n",
      "\u001b[1;32m/home/joaorr13/Documentos/ac/AC/notebook.ipynb Cell 20\u001b[0m line \u001b[0;36m5\n\u001b[1;32m      <a href='vscode-notebook-cell://wsl%2Bubuntu/home/joaorr13/Documentos/ac/AC/notebook.ipynb#X25sdnNjb2RlLXJlbW90ZQ%3D%3D?line=1'>2</a>\u001b[0m data1 \u001b[39m=\u001b[39m pd\u001b[39m.\u001b[39mget_dummies(data, columns\u001b[39m=\u001b[39m[\u001b[39m\"\u001b[39m\u001b[39mtmID\u001b[39m\u001b[39m\"\u001b[39m])\n\u001b[1;32m      <a href='vscode-notebook-cell://wsl%2Bubuntu/home/joaorr13/Documentos/ac/AC/notebook.ipynb#X25sdnNjb2RlLXJlbW90ZQ%3D%3D?line=2'>3</a>\u001b[0m accuracy_list \u001b[39m=\u001b[39m []\n\u001b[0;32m----> <a href='vscode-notebook-cell://wsl%2Bubuntu/home/joaorr13/Documentos/ac/AC/notebook.ipynb#X25sdnNjb2RlLXJlbW90ZQ%3D%3D?line=4'>5</a>\u001b[0m \u001b[39mfor\u001b[39;00m year \u001b[39min\u001b[39;00m \u001b[39mrange\u001b[39m(\u001b[39m2\u001b[39m, \u001b[39mlen\u001b[39m(years) \u001b[39m+\u001b[39m \u001b[39m1\u001b[39m):\n\u001b[1;32m      <a href='vscode-notebook-cell://wsl%2Bubuntu/home/joaorr13/Documentos/ac/AC/notebook.ipynb#X25sdnNjb2RlLXJlbW90ZQ%3D%3D?line=5'>6</a>\u001b[0m     current_year_data \u001b[39m=\u001b[39m data1[data1[\u001b[39m'\u001b[39m\u001b[39myear\u001b[39m\u001b[39m'\u001b[39m] \u001b[39m==\u001b[39m year]\n\u001b[1;32m      <a href='vscode-notebook-cell://wsl%2Bubuntu/home/joaorr13/Documentos/ac/AC/notebook.ipynb#X25sdnNjb2RlLXJlbW90ZQ%3D%3D?line=6'>7</a>\u001b[0m     previous_years_data \u001b[39m=\u001b[39m data1[data1[\u001b[39m'\u001b[39m\u001b[39myear\u001b[39m\u001b[39m'\u001b[39m] \u001b[39m<\u001b[39m year]\n",
      "\u001b[0;31mNameError\u001b[0m: name 'years' is not defined"
     ]
    }
   ],
   "source": [
    "def run_model_1():\n",
    "    data1 = pd.get_dummies(data, columns=[\"tmID\"])\n",
    "    accuracy_list = []\n",
    "\n",
    "    for year in range(2, len(years) + 1):\n",
    "        current_year_data = data1[data1['year'] == year]\n",
    "        previous_years_data = data1[data1['year'] < year]\n",
    "\n",
    "        current_year_data = current_year_data.copy()\n",
    "\n",
    "        X = previous_years_data.drop(columns=[\"playoff\"])\n",
    "        \n",
    "        Y = previous_years_data[\"playoff\"]\n",
    "\n",
    "        X_train, X_test, Y_train, Y_test = train_test_split(X, Y, test_size=0.7, random_state=42)\n",
    "        \n",
    "        model = DecisionTreeClassifier(random_state=42)\n",
    "        \n",
    "        model.fit(X_train, Y_train)\n",
    "        \n",
    "        predictions = model.predict(X_test)\n",
    "        \n",
    "        accuracy = round(accuracy_score(Y_test, predictions), 2)\n",
    "        print(\"Accuracy: \", accuracy)\n",
    "        accuracy_list.append(accuracy)\n",
    "\n",
    "    plt.plot(list(range(2, len(years) + 1)), accuracy_list, marker='o', linestyle='-')\n",
    "    plt.xlabel(\"Year\")\n",
    "    plt.ylabel(\"Accuracy\")\n",
    "    plt.title(\"Accuracy per Year\")\n",
    "    plt.grid(True)\n",
    "    plt.show()\n",
    "\n",
    "run_model_1()"
   ]
  },
  {
   "cell_type": "markdown",
   "metadata": {},
   "source": [
    "Adding the number of awards per team:"
   ]
  },
  {
   "cell_type": "code",
   "execution_count": 25,
   "metadata": {},
   "outputs": [
    {
     "name": "stdout",
     "output_type": "stream",
     "text": [
      "     playerID  count\n",
      "0  leslili01w     10\n",
      "1  swoopsh01w      8\n",
      "2  catchta01w      5\n",
      "3  tauradi01w      4\n",
      "4  jacksla01w      4\n"
     ]
    }
   ],
   "source": [
    "players_teams = pd.read_csv(\"basketballPlayoffs/players_teams.csv\")\n",
    "players_awards = pd.read_csv(\"basketballPlayoffs/awards_players.csv\")\n",
    "\n",
    "player_counts = players_awards['playerID'].value_counts().reset_index()\n",
    "player_counts.columns = ['playerID', 'count']\n",
    "\n",
    "print(player_counts.head(5))"
   ]
  },
  {
   "cell_type": "code",
   "execution_count": 26,
   "metadata": {},
   "outputs": [
    {
     "name": "stdout",
     "output_type": "stream",
     "text": [
      "      playerID  count tmID\n",
      "0   leslili01w     10  LAS\n",
      "9   swoopsh01w      8  HOU\n",
      "16  swoopsh01w      8  SEA\n",
      "17  catchta01w      5  IND\n",
      "25  tauradi01w      4  PHO\n"
     ]
    }
   ],
   "source": [
    "merged_data = player_counts.merge(players_teams[['playerID', 'tmID']], on='playerID', how='left')\n",
    "merged_data = merged_data.drop_duplicates()\n",
    "print(merged_data.head(5))"
   ]
  },
  {
   "cell_type": "code",
   "execution_count": 32,
   "metadata": {},
   "outputs": [
    {
     "name": "stdout",
     "output_type": "stream",
     "text": [
      "    count tmID\n",
      "0      10  LAS\n",
      "9       8  HOU\n",
      "16      8  SEA\n",
      "17      5  IND\n",
      "25      4  PHO\n",
      "[ 2.  1.  8.  5. 10.  4.  0.]\n",
      "['ATL' 'CHA' 'CHI' 'CLE' 'CON' 'DET' 'HOU' 'IND' 'LAS' 'MIA' 'MIN' 'NYL'\n",
      " 'ORL' 'PHO' 'POR' 'SAC' 'SAS' 'SEA' 'UTA' 'WAS']\n",
      "   year tmID playoff  o_fgm  o_fga  o_ftm  o_fta  o_3pm  o_3pa  o_oreb  ...  \\\n",
      "0     9  ATL       N    895   2258    542    725    202    598     340  ...   \n",
      "1     9  ATL       N    895   2258    542    725    202    598     340  ...   \n",
      "2     9  ATL       N    895   2258    542    725    202    598     340  ...   \n",
      "3     9  ATL       N    895   2258    542    725    202    598     340  ...   \n",
      "4     9  ATL       N    895   2258    542    725    202    598     340  ...   \n",
      "\n",
      "   won  lost  GP   min  attend  count_x  count_y  count_x  count_y  count  \n",
      "0    4    30  34  6825  141379      2.0      2.0      2.0      2.0    2.0  \n",
      "1    4    30  34  6825  141379      2.0      2.0      2.0      2.0    1.0  \n",
      "2    4    30  34  6825  141379      2.0      2.0      2.0      2.0    1.0  \n",
      "3    4    30  34  6825  141379      2.0      2.0      2.0      2.0    1.0  \n",
      "4    4    30  34  6825  141379      2.0      2.0      2.0      2.0    1.0  \n",
      "\n",
      "[5 rows x 49 columns]\n"
     ]
    }
   ],
   "source": [
    "sum_data = merged_data.drop(columns=['playerID'])\n",
    "print(sum_data.head(5))\n",
    "data = data.merge(sum_data[['tmID', 'count']], on='tmID', how='left')\n",
    "data.fillna(0, inplace=True)\n",
    "print(data[\"count\"].unique())\n",
    "print(data[\"tmID\"].unique())\n",
    "\n",
    "print(data.head(5))"
   ]
  },
  {
   "cell_type": "code",
   "execution_count": 60,
   "metadata": {},
   "outputs": [
    {
     "name": "stdout",
     "output_type": "stream",
     "text": [
      "Accuracy for year 2: 0.5\n",
      "Accuracy for year 3: 0.5\n",
      "Accuracy for year 4: 0.5\n",
      "Accuracy for year 5: 0.62\n",
      "Accuracy for year 6: 0.46\n",
      "Accuracy for year 7: 0.64\n",
      "Accuracy for year 8: 0.62\n",
      "Accuracy for year 9: 0.86\n",
      "Accuracy for year 10: 0.54\n"
     ]
    },
    {
     "data": {
      "image/png": "[encoded data removed]",
      "text/plain": [
       "<Figure size 640x480 with 1 Axes>"
      ]
     },
     "metadata": {},
     "output_type": "display_data"
    },
    {
     "ename": "NameError",
     "evalue": "name 'years' is not defined",
     "output_type": "error",
     "traceback": [
      "\u001b[0;31m---------------------------------------------------------------------------\u001b[0m",
      "\u001b[0;31mNameError\u001b[0m                                 Traceback (most recent call last)",
      "\u001b[1;32m/home/joaorr13/Documentos/ac/AC/notebook.ipynb Cell 25\u001b[0m line \u001b[0;36m3\n\u001b[1;32m      <a href='vscode-notebook-cell://wsl%2Bubuntu/home/joaorr13/Documentos/ac/AC/notebook.ipynb#X33sdnNjb2RlLXJlbW90ZQ%3D%3D?line=0'>1</a>\u001b[0m data1 \u001b[39m=\u001b[39m pd\u001b[39m.\u001b[39mget_dummies(data, columns\u001b[39m=\u001b[39m[\u001b[39m\"\u001b[39m\u001b[39mtmID\u001b[39m\u001b[39m\"\u001b[39m])\n\u001b[1;32m      <a href='vscode-notebook-cell://wsl%2Bubuntu/home/joaorr13/Documentos/ac/AC/notebook.ipynb#X33sdnNjb2RlLXJlbW90ZQ%3D%3D?line=1'>2</a>\u001b[0m run_model()\n\u001b[0;32m----> <a href='vscode-notebook-cell://wsl%2Bubuntu/home/joaorr13/Documentos/ac/AC/notebook.ipynb#X33sdnNjb2RlLXJlbW90ZQ%3D%3D?line=2'>3</a>\u001b[0m run_model_1()\n",
      "\u001b[1;32m/home/joaorr13/Documentos/ac/AC/notebook.ipynb Cell 25\u001b[0m line \u001b[0;36m5\n\u001b[1;32m      <a href='vscode-notebook-cell://wsl%2Bubuntu/home/joaorr13/Documentos/ac/AC/notebook.ipynb#X33sdnNjb2RlLXJlbW90ZQ%3D%3D?line=1'>2</a>\u001b[0m data1 \u001b[39m=\u001b[39m pd\u001b[39m.\u001b[39mget_dummies(data, columns\u001b[39m=\u001b[39m[\u001b[39m\"\u001b[39m\u001b[39mtmID\u001b[39m\u001b[39m\"\u001b[39m])\n\u001b[1;32m      <a href='vscode-notebook-cell://wsl%2Bubuntu/home/joaorr13/Documentos/ac/AC/notebook.ipynb#X33sdnNjb2RlLXJlbW90ZQ%3D%3D?line=2'>3</a>\u001b[0m accuracy_list \u001b[39m=\u001b[39m []\n\u001b[0;32m----> <a href='vscode-notebook-cell://wsl%2Bubuntu/home/joaorr13/Documentos/ac/AC/notebook.ipynb#X33sdnNjb2RlLXJlbW90ZQ%3D%3D?line=4'>5</a>\u001b[0m \u001b[39mfor\u001b[39;00m year \u001b[39min\u001b[39;00m \u001b[39mrange\u001b[39m(\u001b[39m2\u001b[39m, \u001b[39mlen\u001b[39m(years) \u001b[39m+\u001b[39m \u001b[39m1\u001b[39m):\n\u001b[1;32m      <a href='vscode-notebook-cell://wsl%2Bubuntu/home/joaorr13/Documentos/ac/AC/notebook.ipynb#X33sdnNjb2RlLXJlbW90ZQ%3D%3D?line=5'>6</a>\u001b[0m     current_year_data \u001b[39m=\u001b[39m data1[data1[\u001b[39m'\u001b[39m\u001b[39myear\u001b[39m\u001b[39m'\u001b[39m] \u001b[39m==\u001b[39m year]\n\u001b[1;32m      <a href='vscode-notebook-cell://wsl%2Bubuntu/home/joaorr13/Documentos/ac/AC/notebook.ipynb#X33sdnNjb2RlLXJlbW90ZQ%3D%3D?line=6'>7</a>\u001b[0m     previous_years_data \u001b[39m=\u001b[39m data1[data1[\u001b[39m'\u001b[39m\u001b[39myear\u001b[39m\u001b[39m'\u001b[39m] \u001b[39m<\u001b[39m year]\n",
      "\u001b[0;31mNameError\u001b[0m: name 'years' is not defined"
     ]
    }
   ],
   "source": [
    "data1 = pd.get_dummies(data, columns=[\"tmID\"])\n",
    "run_model()\n",
    "run_model_1()"
   ]
  },
  {
   "cell_type": "markdown",
   "metadata": {},
   "source": [
    "Now we'll shift the data so that the statistics from one year are used to predict the playoffs of the following year:"
   ]
  },
  {
   "cell_type": "code",
   "execution_count": 28,
   "metadata": {},
   "outputs": [
    {
     "ename": "ValueError",
     "evalue": "Input X contains NaN.\nDecisionTreeClassifier does not accept missing values encoded as NaN natively. For supervised learning, you might want to consider sklearn.ensemble.HistGradientBoostingClassifier and Regressor which accept missing values encoded as NaNs natively. Alternatively, it is possible to preprocess the data, for instance by using an imputer transformer in a pipeline or drop samples with missing values. See https://scikit-learn.org/stable/modules/impute.html You can find a list of all estimators that handle NaN values at the following page: https://scikit-learn.org/stable/modules/impute.html#estimators-that-handle-nan-values",
     "output_type": "error",
     "traceback": [
      "\u001b[0;31m---------------------------------------------------------------------------\u001b[0m",
      "\u001b[0;31mValueError\u001b[0m                                Traceback (most recent call last)",
      "\u001b[1;32m/home/joaorr13/Documentos/ac/AC/notebook.ipynb Cell 27\u001b[0m line \u001b[0;36m1\n\u001b[1;32m    <a href='vscode-notebook-cell://wsl%2Bubuntu/home/joaorr13/Documentos/ac/AC/notebook.ipynb#X35sdnNjb2RlLXJlbW90ZQ%3D%3D?line=113'>114</a>\u001b[0m     plt\u001b[39m.\u001b[39mgrid(\u001b[39mTrue\u001b[39;00m)\n\u001b[1;32m    <a href='vscode-notebook-cell://wsl%2Bubuntu/home/joaorr13/Documentos/ac/AC/notebook.ipynb#X35sdnNjb2RlLXJlbW90ZQ%3D%3D?line=114'>115</a>\u001b[0m     plt\u001b[39m.\u001b[39mshow()\n\u001b[0;32m--> <a href='vscode-notebook-cell://wsl%2Bubuntu/home/joaorr13/Documentos/ac/AC/notebook.ipynb#X35sdnNjb2RlLXJlbW90ZQ%3D%3D?line=116'>117</a>\u001b[0m run_model_shift()\n",
      "\u001b[1;32m/home/joaorr13/Documentos/ac/AC/notebook.ipynb Cell 27\u001b[0m line \u001b[0;36m1\n\u001b[1;32m     <a href='vscode-notebook-cell://wsl%2Bubuntu/home/joaorr13/Documentos/ac/AC/notebook.ipynb#X35sdnNjb2RlLXJlbW90ZQ%3D%3D?line=97'>98</a>\u001b[0m Y_test \u001b[39m=\u001b[39m test[\u001b[39m'\u001b[39m\u001b[39mplayoff\u001b[39m\u001b[39m'\u001b[39m]\n\u001b[1;32m    <a href='vscode-notebook-cell://wsl%2Bubuntu/home/joaorr13/Documentos/ac/AC/notebook.ipynb#X35sdnNjb2RlLXJlbW90ZQ%3D%3D?line=99'>100</a>\u001b[0m model \u001b[39m=\u001b[39m DecisionTreeClassifier(random_state\u001b[39m=\u001b[39m\u001b[39m42\u001b[39m)\n\u001b[0;32m--> <a href='vscode-notebook-cell://wsl%2Bubuntu/home/joaorr13/Documentos/ac/AC/notebook.ipynb#X35sdnNjb2RlLXJlbW90ZQ%3D%3D?line=101'>102</a>\u001b[0m model\u001b[39m.\u001b[39;49mfit(X_train, Y_train)\n\u001b[1;32m    <a href='vscode-notebook-cell://wsl%2Bubuntu/home/joaorr13/Documentos/ac/AC/notebook.ipynb#X35sdnNjb2RlLXJlbW90ZQ%3D%3D?line=103'>104</a>\u001b[0m predictions \u001b[39m=\u001b[39m model\u001b[39m.\u001b[39mpredict(X_test)\n\u001b[1;32m    <a href='vscode-notebook-cell://wsl%2Bubuntu/home/joaorr13/Documentos/ac/AC/notebook.ipynb#X35sdnNjb2RlLXJlbW90ZQ%3D%3D?line=105'>106</a>\u001b[0m accuracy \u001b[39m=\u001b[39m \u001b[39mround\u001b[39m(accuracy_score(Y_test, predictions), \u001b[39m2\u001b[39m)\n",
      "File \u001b[0;32m~/.local/lib/python3.8/site-packages/sklearn/tree/_classes.py:889\u001b[0m, in \u001b[0;36mDecisionTreeClassifier.fit\u001b[0;34m(self, X, y, sample_weight, check_input)\u001b[0m\n\u001b[1;32m    859\u001b[0m \u001b[39mdef\u001b[39;00m \u001b[39mfit\u001b[39m(\u001b[39mself\u001b[39m, X, y, sample_weight\u001b[39m=\u001b[39m\u001b[39mNone\u001b[39;00m, check_input\u001b[39m=\u001b[39m\u001b[39mTrue\u001b[39;00m):\n\u001b[1;32m    860\u001b[0m \u001b[39m    \u001b[39m\u001b[39m\"\"\"Build a decision tree classifier from the training set (X, y).\u001b[39;00m\n\u001b[1;32m    861\u001b[0m \n\u001b[1;32m    862\u001b[0m \u001b[39m    Parameters\u001b[39;00m\n\u001b[0;32m   (...)\u001b[0m\n\u001b[1;32m    886\u001b[0m \u001b[39m        Fitted estimator.\u001b[39;00m\n\u001b[1;32m    887\u001b[0m \u001b[39m    \"\"\"\u001b[39;00m\n\u001b[0;32m--> 889\u001b[0m     \u001b[39msuper\u001b[39;49m()\u001b[39m.\u001b[39;49mfit(\n\u001b[1;32m    890\u001b[0m         X,\n\u001b[1;32m    891\u001b[0m         y,\n\u001b[1;32m    892\u001b[0m         sample_weight\u001b[39m=\u001b[39;49msample_weight,\n\u001b[1;32m    893\u001b[0m         check_input\u001b[39m=\u001b[39;49mcheck_input,\n\u001b[1;32m    894\u001b[0m     )\n\u001b[1;32m    895\u001b[0m     \u001b[39mreturn\u001b[39;00m \u001b[39mself\u001b[39m\n",
      "File \u001b[0;32m~/.local/lib/python3.8/site-packages/sklearn/tree/_classes.py:186\u001b[0m, in \u001b[0;36mBaseDecisionTree.fit\u001b[0;34m(self, X, y, sample_weight, check_input)\u001b[0m\n\u001b[1;32m    184\u001b[0m check_X_params \u001b[39m=\u001b[39m \u001b[39mdict\u001b[39m(dtype\u001b[39m=\u001b[39mDTYPE, accept_sparse\u001b[39m=\u001b[39m\u001b[39m\"\u001b[39m\u001b[39mcsc\u001b[39m\u001b[39m\"\u001b[39m)\n\u001b[1;32m    185\u001b[0m check_y_params \u001b[39m=\u001b[39m \u001b[39mdict\u001b[39m(ensure_2d\u001b[39m=\u001b[39m\u001b[39mFalse\u001b[39;00m, dtype\u001b[39m=\u001b[39m\u001b[39mNone\u001b[39;00m)\n\u001b[0;32m--> 186\u001b[0m X, y \u001b[39m=\u001b[39m \u001b[39mself\u001b[39;49m\u001b[39m.\u001b[39;49m_validate_data(\n\u001b[1;32m    187\u001b[0m     X, y, validate_separately\u001b[39m=\u001b[39;49m(check_X_params, check_y_params)\n\u001b[1;32m    188\u001b[0m )\n\u001b[1;32m    189\u001b[0m \u001b[39mif\u001b[39;00m issparse(X):\n\u001b[1;32m    190\u001b[0m     X\u001b[39m.\u001b[39msort_indices()\n",
      "File \u001b[0;32m~/.local/lib/python3.8/site-packages/sklearn/base.py:579\u001b[0m, in \u001b[0;36mBaseEstimator._validate_data\u001b[0;34m(self, X, y, reset, validate_separately, **check_params)\u001b[0m\n\u001b[1;32m    577\u001b[0m \u001b[39mif\u001b[39;00m \u001b[39m\"\u001b[39m\u001b[39mestimator\u001b[39m\u001b[39m\"\u001b[39m \u001b[39mnot\u001b[39;00m \u001b[39min\u001b[39;00m check_X_params:\n\u001b[1;32m    578\u001b[0m     check_X_params \u001b[39m=\u001b[39m {\u001b[39m*\u001b[39m\u001b[39m*\u001b[39mdefault_check_params, \u001b[39m*\u001b[39m\u001b[39m*\u001b[39mcheck_X_params}\n\u001b[0;32m--> 579\u001b[0m X \u001b[39m=\u001b[39m check_array(X, input_name\u001b[39m=\u001b[39;49m\u001b[39m\"\u001b[39;49m\u001b[39mX\u001b[39;49m\u001b[39m\"\u001b[39;49m, \u001b[39m*\u001b[39;49m\u001b[39m*\u001b[39;49mcheck_X_params)\n\u001b[1;32m    580\u001b[0m \u001b[39mif\u001b[39;00m \u001b[39m\"\u001b[39m\u001b[39mestimator\u001b[39m\u001b[39m\"\u001b[39m \u001b[39mnot\u001b[39;00m \u001b[39min\u001b[39;00m check_y_params:\n\u001b[1;32m    581\u001b[0m     check_y_params \u001b[39m=\u001b[39m {\u001b[39m*\u001b[39m\u001b[39m*\u001b[39mdefault_check_params, \u001b[39m*\u001b[39m\u001b[39m*\u001b[39mcheck_y_params}\n",
      "File \u001b[0;32m~/.local/lib/python3.8/site-packages/sklearn/utils/validation.py:921\u001b[0m, in \u001b[0;36mcheck_array\u001b[0;34m(array, accept_sparse, accept_large_sparse, dtype, order, copy, force_all_finite, ensure_2d, allow_nd, ensure_min_samples, ensure_min_features, estimator, input_name)\u001b[0m\n\u001b[1;32m    915\u001b[0m         \u001b[39mraise\u001b[39;00m \u001b[39mValueError\u001b[39;00m(\n\u001b[1;32m    916\u001b[0m             \u001b[39m\"\u001b[39m\u001b[39mFound array with dim \u001b[39m\u001b[39m%d\u001b[39;00m\u001b[39m. \u001b[39m\u001b[39m%s\u001b[39;00m\u001b[39m expected <= 2.\u001b[39m\u001b[39m\"\u001b[39m\n\u001b[1;32m    917\u001b[0m             \u001b[39m%\u001b[39m (array\u001b[39m.\u001b[39mndim, estimator_name)\n\u001b[1;32m    918\u001b[0m         )\n\u001b[1;32m    920\u001b[0m     \u001b[39mif\u001b[39;00m force_all_finite:\n\u001b[0;32m--> 921\u001b[0m         _assert_all_finite(\n\u001b[1;32m    922\u001b[0m             array,\n\u001b[1;32m    923\u001b[0m             input_name\u001b[39m=\u001b[39;49minput_name,\n\u001b[1;32m    924\u001b[0m             estimator_name\u001b[39m=\u001b[39;49mestimator_name,\n\u001b[1;32m    925\u001b[0m             allow_nan\u001b[39m=\u001b[39;49mforce_all_finite \u001b[39m==\u001b[39;49m \u001b[39m\"\u001b[39;49m\u001b[39mallow-nan\u001b[39;49m\u001b[39m\"\u001b[39;49m,\n\u001b[1;32m    926\u001b[0m         )\n\u001b[1;32m    928\u001b[0m \u001b[39mif\u001b[39;00m ensure_min_samples \u001b[39m>\u001b[39m \u001b[39m0\u001b[39m:\n\u001b[1;32m    929\u001b[0m     n_samples \u001b[39m=\u001b[39m _num_samples(array)\n",
      "File \u001b[0;32m~/.local/lib/python3.8/site-packages/sklearn/utils/validation.py:161\u001b[0m, in \u001b[0;36m_assert_all_finite\u001b[0;34m(X, allow_nan, msg_dtype, estimator_name, input_name)\u001b[0m\n\u001b[1;32m    144\u001b[0m \u001b[39mif\u001b[39;00m estimator_name \u001b[39mand\u001b[39;00m input_name \u001b[39m==\u001b[39m \u001b[39m\"\u001b[39m\u001b[39mX\u001b[39m\u001b[39m\"\u001b[39m \u001b[39mand\u001b[39;00m has_nan_error:\n\u001b[1;32m    145\u001b[0m     \u001b[39m# Improve the error message on how to handle missing values in\u001b[39;00m\n\u001b[1;32m    146\u001b[0m     \u001b[39m# scikit-learn.\u001b[39;00m\n\u001b[1;32m    147\u001b[0m     msg_err \u001b[39m+\u001b[39m\u001b[39m=\u001b[39m (\n\u001b[1;32m    148\u001b[0m         \u001b[39mf\u001b[39m\u001b[39m\"\u001b[39m\u001b[39m\\n\u001b[39;00m\u001b[39m{\u001b[39;00mestimator_name\u001b[39m}\u001b[39;00m\u001b[39m does not accept missing values\u001b[39m\u001b[39m\"\u001b[39m\n\u001b[1;32m    149\u001b[0m         \u001b[39m\"\u001b[39m\u001b[39m encoded as NaN natively. For supervised learning, you might want\u001b[39m\u001b[39m\"\u001b[39m\n\u001b[0;32m   (...)\u001b[0m\n\u001b[1;32m    159\u001b[0m         \u001b[39m\"\u001b[39m\u001b[39m#estimators-that-handle-nan-values\u001b[39m\u001b[39m\"\u001b[39m\n\u001b[1;32m    160\u001b[0m     )\n\u001b[0;32m--> 161\u001b[0m \u001b[39mraise\u001b[39;00m \u001b[39mValueError\u001b[39;00m(msg_err)\n",
      "\u001b[0;31mValueError\u001b[0m: Input X contains NaN.\nDecisionTreeClassifier does not accept missing values encoded as NaN natively. For supervised learning, you might want to consider sklearn.ensemble.HistGradientBoostingClassifier and Regressor which accept missing values encoded as NaNs natively. Alternatively, it is possible to preprocess the data, for instance by using an imputer transformer in a pipeline or drop samples with missing values. See https://scikit-learn.org/stable/modules/impute.html You can find a list of all estimators that handle NaN values at the following page: https://scikit-learn.org/stable/modules/impute.html#estimators-that-handle-nan-values"
     ]
    }
   ],
   "source": [
    "def run_model_shift():\n",
    "    data1 = pd.get_dummies(data, columns=[\"tmID\"])\n",
    "    accuracy_list = []\n",
    "    years = data1['year'].unique()\n",
    "    years.sort()\n",
    "\n",
    "    # if 'i' is 2, we want to predict the playoffs in year 3, etc.\n",
    "    for i in range(2, len(years)):\n",
    "        train_years = years[:(i - 1)]\n",
    "        train_years_2 = years[1:i]\n",
    "        test_year = years[i]\n",
    "        test_year_2 = years[i - 1]\n",
    "\n",
    "        train = data1[data1['year'].isin(train_years)]\n",
    "        train_2 = data1[data1['year'].isin(train_years_2)]\n",
    "        test = data1[data1['year'] == test_year]\n",
    "        test_2 = data1[data1['year'] == test_year_2]\n",
    "\n",
    "        if i == 3:\n",
    "            condition = ~((test_2['tmID_MIA'] == True) & (test_2['year'] == 3))\n",
    "            test_2 = test_2[condition]\n",
    "            condition = ~((test_2['tmID_ORL'] == True) & (test_2['year'] == 3))\n",
    "            test_2 = test_2[condition]\n",
    "            condition = ~((test_2['tmID_POR'] == True) & (test_2['year'] == 3))\n",
    "            test_2 = test_2[condition]\n",
    "            condition = ~((test_2['tmID_UTA'] == True) & (test_2['year'] == 3))\n",
    "            test_2 = test_2[condition]\n",
    "\n",
    "            condition = ~((test['tmID_CON'] == True) & (test['year'] == 4))\n",
    "            test = test[condition]\n",
    "            condition = ~((test['tmID_SAS'] == True) & (test['year'] == 4))\n",
    "            test = test[condition]\n",
    "\n",
    "        # X_train = train\n",
    "        # Y_train = train_2\n",
    "        # X_test = test_2\n",
    "        # Y_test = test\n",
    "        \n",
    "        if i > 3:\n",
    "            condition = ~((train['tmID_MIA'] == True) & (train['year'] == 3))\n",
    "            train = train[condition]\n",
    "            condition = ~((train['tmID_ORL'] == True) & (train['year'] == 3))\n",
    "            train = train[condition]\n",
    "            condition = ~((train['tmID_POR'] == True) & (train['year'] == 3))\n",
    "            train = train[condition]\n",
    "            condition = ~((train['tmID_UTA'] == True) & (train['year'] == 3))\n",
    "            train = train[condition]\n",
    "\n",
    "            condition = ~((train_2['tmID_CON'] == True) & (train_2['year'] == 4))\n",
    "            train_2 = train_2[condition]\n",
    "            condition = ~((train_2['tmID_SAS'] == True) & (train_2['year'] == 4))\n",
    "            train_2 = train_2[condition]\n",
    "\n",
    "        if i == 4:\n",
    "            condition = ~((test_2['tmID_CLE'] == True) & (test_2['year'] == 4))\n",
    "            test_2 = test_2[condition]\n",
    "        \n",
    "        if i > 4:\n",
    "            condition = ~((train['tmID_CLE'] == True) & (train['year'] == 4))\n",
    "            train = train[condition]\n",
    "\n",
    "        if i == 7:\n",
    "            condition = ~((test_2['tmID_CHA'] == True) & (test_2['year'] == 7))\n",
    "            test_2 = test_2[condition]\n",
    "        \n",
    "        if i > 7:\n",
    "            condition = ~((train['tmID_CHA'] == True) & (train['year'] == 7))\n",
    "            train = train[condition]\n",
    "\n",
    "        if i == 9:\n",
    "            condition = ~((test_2['tmID_HOU'] == True) & (test_2['year'] == 9))\n",
    "            test_2 = test_2[condition]\n",
    "\n",
    "        if i > 9:\n",
    "            condition = ~((train['tmID_HOU'] == True) & (train['year'] == 9))\n",
    "            train = train[condition]\n",
    "\n",
    "        if i == 6:\n",
    "            condition = ~((test['tmID_CHI'] == True) & (test['year'] == 7))\n",
    "            test = test[condition]\n",
    "\n",
    "        if i > 6:\n",
    "            condition = ~((train_2['tmID_CHI'] == True) & (train_2['year'] == 7))\n",
    "            train_2 = train_2[condition]\n",
    "        \n",
    "        if i == 8:\n",
    "            condition = ~((test['tmID_ATL'] == True) & (test['year'] == 9))\n",
    "            test = test[condition]\n",
    "\n",
    "        if i > 8:\n",
    "            condition = ~((train_2['tmID_ATL'] == True) & (train_2['year'] == 9))\n",
    "            train_2 = train_2[condition]\n",
    "        \n",
    "\n",
    "        X_train = train.drop(columns=[\"playoff\"])\n",
    "        Y_train = train_2['playoff']\n",
    "        X_test = test_2.drop(columns=[\"playoff\"])\n",
    "        Y_test = test['playoff']\n",
    "        \n",
    "        model = DecisionTreeClassifier(random_state=42)\n",
    "        \n",
    "        model.fit(X_train, Y_train)\n",
    "        \n",
    "        predictions = model.predict(X_test)\n",
    "        \n",
    "        accuracy = round(accuracy_score(Y_test, predictions), 2)\n",
    "        print(\"Accuracy for year {}: {}\".format(i + 1, accuracy))\n",
    "        accuracy_list.append(accuracy)\n",
    "\n",
    "    plt.plot(list(range(3, len(years) + 1)), accuracy_list, marker='o', linestyle='-')\n",
    "    plt.xlabel(\"Year\")\n",
    "    plt.ylabel(\"Accuracy\")\n",
    "    plt.title(\"Accuracy per Year for Predicting Next Year's Playoff\")\n",
    "    plt.grid(True)\n",
    "    plt.show()\n",
    "\n",
    "run_model_shift()"
   ]
  }
 ],
 "metadata": {
  "kernelspec": {
   "display_name": "Python 3",
   "language": "python",
   "name": "python3"
  },
  "language_info": {
   "codemirror_mode": {
    "name": "ipython",
    "version": 3
   },
   "file_extension": ".py",
   "mimetype": "text/x-python",
   "name": "python",
   "nbconvert_exporter": "python",
   "pygments_lexer": "ipython3",
   "version": "3.8.10"
  }
 },
 "nbformat": 4,
 "nbformat_minor": 2
}
